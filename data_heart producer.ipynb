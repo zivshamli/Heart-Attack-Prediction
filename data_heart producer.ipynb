{
 "cells": [
  {
   "cell_type": "code",
   "execution_count": 5,
   "id": "38208acd",
   "metadata": {},
   "outputs": [
    {
     "name": "stdout",
     "output_type": "stream",
     "text": [
      "Requirement already satisfied: confluent-kafka in /home/linuxu/anaconda3/lib/python3.9/site-packages (1.9.2)\n",
      "Note: you may need to restart the kernel to use updated packages.\n"
     ]
    }
   ],
   "source": [
    "pip install confluent-kafka"
   ]
  },
  {
   "cell_type": "code",
   "execution_count": 6,
   "id": "63e40690",
   "metadata": {},
   "outputs": [],
   "source": [
    "from confluent_kafka import Producer\n",
    "import json\n",
    "import time"
   ]
  },
  {
   "cell_type": "code",
   "execution_count": 7,
   "id": "0c48d378",
   "metadata": {},
   "outputs": [],
   "source": [
    "# Step 1: Configure the Kafka producer\n",
    "producer_config = {'bootstrap.servers': 'localhost:9092'}  # Kafka broker address\n",
    "p = Producer(producer_config)"
   ]
  },
  {
   "cell_type": "code",
   "execution_count": 8,
   "id": "0fa5ee30",
   "metadata": {},
   "outputs": [
    {
     "name": "stdout",
     "output_type": "stream",
     "text": [
      "Dataset loaded successfully!\n"
     ]
    }
   ],
   "source": [
    "# Step 2: Load the Heart Disease dataset\n",
    "import pandas as pd\n",
    "\n",
    "file_path = 'heart_disease_uci.csv'\n",
    "df = pd.read_csv(file_path)\n",
    "print(\"Dataset loaded successfully!\")"
   ]
  },
  {
   "cell_type": "code",
   "execution_count": 9,
   "id": "5a68907b",
   "metadata": {},
   "outputs": [],
   "source": [
    "# Step 3: Define the Kafka topic name\n",
    "topic = 'heart_data'  # Name of the topic where data will be sent"
   ]
  },
  {
   "cell_type": "code",
   "execution_count": 10,
   "id": "8f22a4aa",
   "metadata": {},
   "outputs": [],
   "source": [
    "# Step 4: Configure batch size and delay\n",
    "batch_size = 50  # Number of records sent per batch\n",
    "delay = 2  # Delay (in seconds) between each batch transmission"
   ]
  },
  {
   "cell_type": "code",
   "execution_count": 11,
   "id": "cd1b8ce1",
   "metadata": {},
   "outputs": [
    {
     "name": "stdout",
     "output_type": "stream",
     "text": [
      "Sending data to Kafka topic: heart_data\n",
      "Sent batch with 50 records\n",
      "Sent batch with 50 records\n",
      "Sent batch with 50 records\n",
      "Sent batch with 50 records\n",
      "Sent batch with 50 records\n",
      "Sent batch with 50 records\n",
      "Sent batch with 50 records\n",
      "Sent batch with 50 records\n",
      "Sent batch with 50 records\n",
      "Sent batch with 50 records\n",
      "Sent batch with 50 records\n",
      "Sent batch with 50 records\n",
      "Sent batch with 50 records\n",
      "Sent batch with 50 records\n",
      "Sent batch with 50 records\n",
      "Sent batch with 50 records\n",
      "Sent batch with 50 records\n",
      "Sent batch with 50 records\n",
      "Sent batch with 20 records\n",
      "Heart disease dataset successfully sent to Kafka.\n"
     ]
    }
   ],
   "source": [
    "# Step 5: Send the dataset to Kafka in batches\n",
    "print(f\"Sending data to Kafka topic: {topic}\")\n",
    "for batch in [df[i:i + batch_size] for i in range(0, len(df), batch_size)]:\n",
    "    batch_data = batch.to_dict(orient=\"records\")  # Convert batch to JSON format\n",
    "    data = json.dumps(batch_data)  # Serialize the batch as a JSON string\n",
    "    \n",
    "    # Produce message to Kafka topic\n",
    "    p.produce(topic, value=data)\n",
    "    p.flush()  # Ensure message is delivered to Kafka\n",
    "    \n",
    "    print(f\"Sent batch with {len(batch_data)} records\")\n",
    "    time.sleep(delay)  # Wait for the specified delay before sending the next batch\n",
    "\n",
    "print(\"Heart disease dataset successfully sent to Kafka.\")"
   ]
  },
  {
   "cell_type": "code",
   "execution_count": 12,
   "id": "add9d527",
   "metadata": {},
   "outputs": [
    {
     "name": "stdout",
     "output_type": "stream",
     "text": [
      "All data sent. Termination signal sent to Kafka.\n"
     ]
    }
   ],
   "source": [
    "# Step 6: Send termination signal\n",
    "done_signal = json.dumps({\"end_of_stream\": True})\n",
    "p.produce(topic, value=done_signal)\n",
    "p.flush()\n",
    "print(\"All data sent. Termination signal sent to Kafka.\")"
   ]
  },
  {
   "cell_type": "code",
   "execution_count": null,
   "id": "0f05debe",
   "metadata": {},
   "outputs": [],
   "source": []
  },
  {
   "cell_type": "code",
   "execution_count": null,
   "id": "d4703758",
   "metadata": {},
   "outputs": [],
   "source": []
  }
 ],
 "metadata": {
  "kernelspec": {
   "display_name": "Python 3 (ipykernel)",
   "language": "python",
   "name": "python3"
  },
  "language_info": {
   "codemirror_mode": {
    "name": "ipython",
    "version": 3
   },
   "file_extension": ".py",
   "mimetype": "text/x-python",
   "name": "python",
   "nbconvert_exporter": "python",
   "pygments_lexer": "ipython3",
   "version": "3.9.12"
  }
 },
 "nbformat": 4,
 "nbformat_minor": 5
}
